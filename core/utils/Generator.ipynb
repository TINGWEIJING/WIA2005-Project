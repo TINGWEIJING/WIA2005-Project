{
 "metadata": {
  "language_info": {
   "codemirror_mode": {
    "name": "ipython",
    "version": 3
   },
   "file_extension": ".py",
   "mimetype": "text/x-python",
   "name": "python",
   "nbconvert_exporter": "python",
   "pygments_lexer": "ipython3",
   "version": "3.8.8"
  },
  "orig_nbformat": 2,
  "kernelspec": {
   "name": "python388jvsc74a57bd03b1827d4b6462cc460901af0bc0d075c933010817877a813d51f78a107cbf6e5",
   "display_name": "Python 3.8.8 64-bit"
  },
  "metadata": {
   "interpreter": {
    "hash": "3b1827d4b6462cc460901af0bc0d075c933010817877a813d51f78a107cbf6e5"
   }
  }
 },
 "nbformat": 4,
 "nbformat_minor": 2,
 "cells": [
  {
   "cell_type": "code",
   "execution_count": 1,
   "metadata": {},
   "outputs": [],
   "source": [
    "import json"
   ]
  },
  {
   "cell_type": "code",
   "execution_count": 6,
   "metadata": {},
   "outputs": [],
   "source": [
    "HUB_LOCATION_JSON_FILE = r'..\\storage\\hub_location.json'"
   ]
  },
  {
   "cell_type": "code",
   "execution_count": 7,
   "metadata": {},
   "outputs": [
    {
     "output_type": "stream",
     "name": "stdout",
     "text": [
      "{\n    \"City-link Express\": {\n        \"hub\": \"Port Klang\",\n        \"lat\": 3.0319924887507144,\n        \"long\": 101.37344116244806\n    },\n    \"Pos Laju\": {\n        \"hub\": \"Petaling Jaya\",\n        \"lat\": 3.112924170027219,\n        \"long\": 101.63982650389863\n    },\n    \"GDEX\": {\n        \"hub\": \"Batu Caves\",\n        \"lat\": 3.265154613796736,\n        \"long\": 101.68024844550233\n    },\n    \"J&T\": {\n        \"hub\": \"Kajang\",\n        \"lat\": 2.9441205329488325,\n        \"long\": 101.7901521759029\n    },\n    \"DHL\": {\n        \"hub\": \"Sungai Buloh\",\n        \"lat\": 3.2127230893650065,\n        \"long\": 101.57467295692778\n    }\n}\n"
     ]
    }
   ],
   "source": [
    "# Create & Write Hub locations\n",
    "locationDict = {}\n",
    "locationDict['City-link Express'] = {\n",
    "    'hub':'Port Klang',\n",
    "    'lat':3.0319924887507144,\n",
    "    'long':101.37344116244806\n",
    "}\n",
    "locationDict['Pos Laju'] = {\n",
    "    'hub':'Petaling Jaya',\n",
    "    'lat':3.112924170027219,\n",
    "    'long':101.63982650389863\n",
    "}\n",
    "locationDict['GDEX'] = {\n",
    "    'hub':'Batu Caves',\n",
    "    'lat':3.265154613796736,\n",
    "    'long':101.68024844550233\n",
    "}\n",
    "locationDict['J&T'] = {\n",
    "    'hub':'Kajang',\n",
    "    'lat':2.9441205329488325,\n",
    "    'long':101.7901521759029\n",
    "}\n",
    "locationDict['DHL'] = {\n",
    "    'hub':'Sungai Buloh',\n",
    "    'lat':3.2127230893650065,\n",
    "    'long':101.57467295692778\n",
    "}\n",
    "\n",
    "print(json.dumps(locationDict, indent=4))\n",
    "with open(HUB_LOCATION_JSON_FILE, 'w') as outfile:\n",
    "    json.dump(locationDict, outfile)"
   ]
  },
  {
   "cell_type": "code",
   "execution_count": null,
   "metadata": {},
   "outputs": [],
   "source": []
  }
 ]
}