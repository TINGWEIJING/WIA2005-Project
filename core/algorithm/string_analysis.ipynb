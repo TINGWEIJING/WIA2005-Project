{
 "metadata": {
  "language_info": {
   "codemirror_mode": {
    "name": "ipython",
    "version": 3
   },
   "file_extension": ".py",
   "mimetype": "text/x-python",
   "name": "python",
   "nbconvert_exporter": "python",
   "pygments_lexer": "ipython3",
   "version": "3.8.8"
  },
  "orig_nbformat": 2,
  "kernelspec": {
   "name": "python388jvsc74a57bd03b1827d4b6462cc460901af0bc0d075c933010817877a813d51f78a107cbf6e5",
   "display_name": "Python 3.8.8 64-bit"
  },
  "metadata": {
   "interpreter": {
    "hash": "3b1827d4b6462cc460901af0bc0d075c933010817877a813d51f78a107cbf6e5"
   }
  }
 },
 "nbformat": 4,
 "nbformat_minor": 2,
 "cells": [
  {
   "source": [
    "### Predefined +/- string list\n",
    "- process into text file\n",
    "- read from file\n",
    "- convert into tries"
   ],
   "cell_type": "markdown",
   "metadata": {}
  },
  {
   "source": [
    "#### Process raw words"
   ],
   "cell_type": "markdown",
   "metadata": {}
  },
  {
   "cell_type": "code",
   "execution_count": null,
   "metadata": {},
   "outputs": [],
   "source": [
    "with open(r'..\\storage\\raw_text.txt', 'r') as reader:\n",
    "    splitted_text = reader.read().split(',')\n",
    "    proc_text = [x.strip().lower() for x in splitted_text]\n",
    "    print(proc_text)"
   ]
  },
  {
   "cell_type": "code",
   "execution_count": null,
   "metadata": {},
   "outputs": [],
   "source": [
    "sorted_word = sorted(proc_text)\n",
    "print(sorted_word)\n",
    "# with open(r'..\\storage\\pos_words.txt', 'w') as writer:\n",
    "#     for word in sorted_word:\n",
    "#         writer.write(word+'\\n')"
   ]
  },
  {
   "cell_type": "code",
   "execution_count": null,
   "metadata": {},
   "outputs": [],
   "source": [
    "with open(r'..\\storage\\neg_words.txt', 'r') as reader:\n",
    "    splitted_text = reader.read().split('\\n')\n",
    "    proc_text = sorted(splitted_text)\n",
    "    print(proc_text)\n",
    "\n",
    "# with open(r'..\\storage\\neg_words.txt', 'w') as writer:\n",
    "#     for word in proc_text:\n",
    "#         writer.write(word+'\\n')"
   ]
  },
  {
   "source": [
    "### Convert to tries"
   ],
   "cell_type": "markdown",
   "metadata": {}
  },
  {
   "cell_type": "code",
   "execution_count": 28,
   "metadata": {},
   "outputs": [],
   "source": [
    "import json\n",
    "import copy"
   ]
  },
  {
   "cell_type": "code",
   "execution_count": 29,
   "metadata": {},
   "outputs": [],
   "source": [
    "SENT_VALUE_KEY = '___'\n",
    "TRIE_JSON_FILE = r'..\\storage\\compressed_trie.json'"
   ]
  },
  {
   "cell_type": "code",
   "execution_count": 30,
   "metadata": {},
   "outputs": [
    {
     "output_type": "stream",
     "name": "stdout",
     "text": [
      "1419\n4548\n"
     ]
    }
   ],
   "source": [
    "# read postive words list from file\n",
    "pos_words = []\n",
    "with open(r'..\\storage\\pos_words.txt', 'r') as reader:\n",
    "    pos_words = sorted(reader.read().split('\\n'))\n",
    "print(len(pos_words))\n",
    "\n",
    "# # read negative words list from file\n",
    "neg_words = []\n",
    "with open(r'..\\storage\\neg_words.txt', 'r') as reader:\n",
    "    neg_words = sorted(reader.read().split('\\n'))\n",
    "print(len(neg_words))"
   ]
  },
  {
   "cell_type": "code",
   "execution_count": 31,
   "metadata": {},
   "outputs": [
    {
     "output_type": "stream",
     "name": "stdout",
     "text": [
      "('a reason for being', 1)\n('abnormal', -1)\n"
     ]
    }
   ],
   "source": [
    "# create imput variable for build_tries()\n",
    "pos_values = [1] * len(pos_words)\n",
    "pos_words_values = list(zip(pos_words, pos_values))\n",
    "print(pos_words_values[0])\n",
    "\n",
    "neg_values = [-1] * len(neg_words)\n",
    "neg_words_values = list(zip(neg_words, neg_values))\n",
    "print(neg_words_values[0])\n",
    "\n",
    "words_values = pos_words_values + neg_words_values"
   ]
  },
  {
   "cell_type": "code",
   "execution_count": 40,
   "metadata": {},
   "outputs": [
    {
     "output_type": "stream",
     "name": "stdout",
     "text": [
      "{\n    \"a\": {\n        \" \": {\n            \"r\": {\n                \"e\": {\n                    \"a\": {\n                        \"s\": {\n                            \"o\": {\n                                \"n\": {\n                                    \" \": {\n                                        \"f\": {\n                                            \"o\": {\n                                                \"r\": {\n                                                    \" \": {\n                                                        \"b\": {\n                                                            \"e\": {\n                                                                \"i\": {\n                                                                    \"n\": {\n                                                                        \"g\": {\n                                                                            \"___\": 1\n                                                                        }\n                                                                    }\n                                                                }\n                                                            }\n                                                        }\n                                                    }\n                                                }\n                                            }\n                                        }\n                                    }\n"
     ]
    }
   ],
   "source": [
    "# build uncompressed trie\n",
    "def build_tries(words_values: list) -> dict:\n",
    "    'Creates a basic uncompressed trie from a sorted list of words with sentiment values.'\n",
    "    root = {}\n",
    "    for (word, value) in words_values:\n",
    "        node = root\n",
    "        word_len = len(word)\n",
    "        for i, char in enumerate(word):\n",
    "            # create a new child if no char found\n",
    "            if char not in node:\n",
    "                node[char] = {}\n",
    "            \n",
    "            # put a key in child indicate end of a complete word\n",
    "            if i == word_len - 1:\n",
    "                node[char][SENT_VALUE_KEY] = value\n",
    "            node = node[char]\n",
    "    return root\n",
    "\n",
    "newTrie = build_tries(words_values)\n",
    "print('\\n'.join(json.dumps(newTrie, indent=4).split('\\n')[:30]))\n",
    "\n",
    "with open(TRIE_JSON_FILE, 'w') as outfile:\n",
    "    json.dump(newTrie, outfile)"
   ]
  },
  {
   "cell_type": "code",
   "execution_count": 43,
   "metadata": {},
   "outputs": [
    {
     "output_type": "stream",
     "name": "stdout",
     "text": [
      "{\n    \"a\": {\n        \" reason for being\": {\n            \"___\": 1\n        },\n        \"b\": {\n            \"le\": {\n                \"___\": 1\n            },\n            \"o\": {\n                \"und\": {\n                    \"___\": 1,\n                    \"ing\": {\n                        \"___\": 1\n                    },\n                    \"s\": {\n                        \"___\": 1\n                    }\n                },\n                \"lish\": {\n                    \"___\": -1\n                },\n                \"mina\": {\n                    \"bl\": {\n                        \"e\": {\n                            \"___\": -1\n                        },\n                        \"y\": {\n                            \"___\": -1\n                        }\n"
     ]
    }
   ],
   "source": [
    "# compress the tries\n",
    "def rec_search(key: str, trie: dict) -> (str, dict):\n",
    "    # base case\n",
    "    # end of last character of complete word\n",
    "    if type(trie) is int:\n",
    "        return key[:-len(SENT_VALUE_KEY)], {SENT_VALUE_KEY:trie}\n",
    "\n",
    "    children_size = len(trie)\n",
    "    newChildren = {}\n",
    "\n",
    "    if children_size == 1:\n",
    "        for childKey, childTrie in trie.items():\n",
    "            prefixKey = key+childKey\n",
    "            newKey, newChild = rec_search(prefixKey, childTrie)\n",
    "\n",
    "            # special case\n",
    "            # if the root tree only has one children\n",
    "            if key == '':\n",
    "                return '', {newKey:newChild}\n",
    "\n",
    "            return newKey, newChild\n",
    "    else:\n",
    "        for childKey, childTrie in trie.items():\n",
    "            if childKey == SENT_VALUE_KEY:\n",
    "                newChildren[childKey] = childTrie\n",
    "            else:\n",
    "                prefixKey = ''+childKey\n",
    "                newKey, newChild = rec_search(prefixKey, childTrie)\n",
    "                newChildren[newKey] = newChild\n",
    "\n",
    "    return key, newChildren\n",
    "\n",
    "def compress_trie(trie: dict) -> dict:\n",
    "    trie = copy.deepcopy(trie)\n",
    "    _, compressedTrie = rec_search('', trie)\n",
    "    return compressedTrie\n",
    "\n",
    "cTrie = compress_trie(newTrie)\n",
    "print('\\n'.join(json.dumps(cTrie, indent=4).split('\\n')[:30]))\n",
    "\n",
    "with open(TRIE_JSON_FILE, 'w') as outfile:\n",
    "    json.dump(cTrie, outfile)"
   ]
  },
  {
   "cell_type": "code",
   "execution_count": 47,
   "metadata": {},
   "outputs": [
    {
     "output_type": "stream",
     "name": "stdout",
     "text": [
      "audacity : -1\nblinding : -1\ndope : -1\nemphatic : -1\ngiddy : -1\nincomparable : -1\njoke : -1\njumpy : -1\nunbelievable : -1\nvulnerable : -1\nzealous : -1\n"
     ]
    }
   ],
   "source": [
    "# test the compressed trie\n",
    "def search(trie: dict, word: str) -> int:\n",
    "    '''\n",
    "    Helper method to search compressed trie\n",
    "    '''\n",
    "    word_length = len(word)\n",
    "    offset = 0\n",
    "    lastIndex = 0\n",
    "\n",
    "    for i in range(word_length):\n",
    "        key = word[offset:i+1]\n",
    "        value = trie.get(key)\n",
    "\n",
    "        if value is not None:\n",
    "            trie = value\n",
    "            offset += len(key)\n",
    "            lastIndex = i\n",
    "\n",
    "    result = trie.get(SENT_VALUE_KEY)\n",
    "    if result is None or lastIndex != word_length - 1:\n",
    "        return 0\n",
    "    return result\n",
    "\n",
    "for (word, value) in words_values:\n",
    "    sent_value = search(cTrie,word)\n",
    "    if(value != sent_value):\n",
    "        print(word, ':', sent_value)\n"
   ]
  }
 ]
}